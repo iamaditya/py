{
 "cells": [
  {
   "cell_type": "code",
   "execution_count": 7,
   "id": "c7182199-f89d-4983-b458-8522da328cef",
   "metadata": {},
   "outputs": [
    {
     "name": "stdout",
     "output_type": "stream",
     "text": [
      "Dictionary : {'Name': 'Aditya', 'Age': 21, 'Phone': 8894633370}\n",
      "Key : Name \n",
      "Value : Aditya\n"
     ]
    }
   ],
   "source": [
    "# Dictionary in python \n",
    "\n",
    "# D = {K:V, K:V}  #Key value pair\n",
    "\n",
    "# Creating Dictionary \n",
    "\n",
    "d= {\"Name\" : \"Aditya\", \"Age\" : 21, \"Phone\" : 8894633370}\n",
    "\n",
    "print(f'Dictionary : {d}')\n",
    "\n",
    "# Give key it will return corresponding value \n",
    "\n",
    "print(f'Key : Name \\nValue : {d[\"Name\"]}')"
   ]
  },
  {
   "cell_type": "code",
   "execution_count": 15,
   "id": "232a0119-f04e-4f1e-8ab6-90aaef65a9bc",
   "metadata": {},
   "outputs": [
    {
     "name": "stdout",
     "output_type": "stream",
     "text": [
      "Dictionary : {'name': 'abhinav', 'college': 'cu', 'place': 'nurpur'}\n",
      "Keys : dict_keys(['name', 'college', 'place'])\n",
      "Values : dict_values(['abhinav', 'cu', 'nurpur'])\n"
     ]
    }
   ],
   "source": [
    "c = dict(name='abhinav',college = 'cu',place = 'nurpur')\n",
    "print(f'Dictionary : {c}')\n",
    "\n",
    "\n",
    "\n",
    "# printing all keys and values \n",
    "\n",
    "print(f'Keys : {c.keys()}')\n",
    "print(f'Values : {c.values()}')"
   ]
  },
  {
   "cell_type": "code",
   "execution_count": 19,
   "id": "3111ac66-c74d-4121-af2b-07220ad880fd",
   "metadata": {},
   "outputs": [
    {
     "name": "stdout",
     "output_type": "stream",
     "text": [
      "Final Dict : {'name': 'abhinav', 'college': 'cu', 'place': 'nurpur', 'Department': 'SDE'}\n"
     ]
    }
   ],
   "source": [
    "# Adding items in dictionary\n",
    "\n",
    "c[\"Department\"] = \"SDE\"\n",
    "\n",
    "print(f'Final Dict : {c}')"
   ]
  },
  {
   "cell_type": "code",
   "execution_count": 23,
   "id": "674d9b2f-59b2-4963-98cb-eaf437b17693",
   "metadata": {},
   "outputs": [
    {
     "name": "stdout",
     "output_type": "stream",
     "text": [
      "Changed Dict : {'name': 'abhinav', 'college': 'cu', 'place': 'nurpur', 'Department': 'SOC Analyst', 'pos': 'SOC Analyst'}\n"
     ]
    }
   ],
   "source": [
    "# what if you give same key for diff value\n",
    "\n",
    "c[\"Department\"] = \"SOC Analyst\"\n",
    "\n",
    "print(f'Changed Dict : {c}')"
   ]
  },
  {
   "cell_type": "code",
   "execution_count": 25,
   "id": "1a030ee4-f453-4885-9a78-afed1ee50fd3",
   "metadata": {},
   "outputs": [
    {
     "name": "stdout",
     "output_type": "stream",
     "text": [
      "Dict : {'name': 'abhinav', 'college': 'cu', 'place': 'nurpur', 'Department': 'SOC Analyst', 'pos': 'SOC Analyst'}\n"
     ]
    }
   ],
   "source": [
    "# what if we have same value for diff key\n",
    "\n",
    "\n",
    "c[\"Department\"] = \"SOC Analyst\"\n",
    "\n",
    "print(f'Dict : {c}')"
   ]
  },
  {
   "cell_type": "code",
   "execution_count": null,
   "id": "5c567ac1-2bd7-4690-8638-52842fd04947",
   "metadata": {},
   "outputs": [],
   "source": []
  }
 ],
 "metadata": {
  "kernelspec": {
   "display_name": "Python 3 (ipykernel)",
   "language": "python",
   "name": "python3"
  },
  "language_info": {
   "codemirror_mode": {
    "name": "ipython",
    "version": 3
   },
   "file_extension": ".py",
   "mimetype": "text/x-python",
   "name": "python",
   "nbconvert_exporter": "python",
   "pygments_lexer": "ipython3",
   "version": "3.12.2"
  }
 },
 "nbformat": 4,
 "nbformat_minor": 5
}
