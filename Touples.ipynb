{
 "cells": [
  {
   "cell_type": "code",
   "execution_count": 5,
   "id": "4f0fde9c-d690-44eb-9fcf-0cb3f75663d6",
   "metadata": {},
   "outputs": [
    {
     "name": "stdout",
     "output_type": "stream",
     "text": [
      "Touple : (1, 4, 5, 2, 6)\n"
     ]
    }
   ],
   "source": [
    "# Creating a touple\n",
    "\n",
    "t = (1,4,5,2,6)\n",
    "\n",
    "print(f'Touple : {t}')"
   ]
  },
  {
   "cell_type": "code",
   "execution_count": 6,
   "id": "632a6f9a-98ee-4abf-b45a-ea1712ea0900",
   "metadata": {},
   "outputs": [
    {
     "name": "stdout",
     "output_type": "stream",
     "text": [
      "Element : 1\n",
      "Element : 4\n",
      "Element : 5\n",
      "Element : 2\n",
      "Element : 6\n"
     ]
    }
   ],
   "source": [
    "for i in t:\n",
    "    print(f'Element : {i}')"
   ]
  },
  {
   "cell_type": "code",
   "execution_count": 8,
   "id": "21fa6d84-eeda-41d1-aafc-a7cd7ee0c604",
   "metadata": {},
   "outputs": [
    {
     "name": "stdout",
     "output_type": "stream",
     "text": [
      "first : 1\n",
      "Slice : (5, 2, 6)\n"
     ]
    }
   ],
   "source": [
    "print(f'first : {t[0]}')\n",
    "print(f'Slice : {t[2:]}')"
   ]
  },
  {
   "cell_type": "code",
   "execution_count": 10,
   "id": "761b9dee-4aeb-46bb-9544-526c4d617256",
   "metadata": {},
   "outputs": [
    {
     "name": "stdout",
     "output_type": "stream",
     "text": [
      "Answer : True\n"
     ]
    }
   ],
   "source": [
    "ans = 2 in t\n",
    "print(f'Answer : {ans}')"
   ]
  },
  {
   "cell_type": "code",
   "execution_count": 13,
   "id": "bda7cec2-ec42-4ca5-9ab3-35603d3346a1",
   "metadata": {},
   "outputs": [
    {
     "name": "stdout",
     "output_type": "stream",
     "text": [
      "X : 3 \n",
      "Y : 2 \n",
      "Z : 1\n"
     ]
    }
   ],
   "source": [
    "(x,y,z) = (3,2,1)\n",
    "\n",
    "print(f'X : {x} \\nY : {y} \\nZ : {z}')"
   ]
  },
  {
   "cell_type": "code",
   "execution_count": null,
   "id": "4a9bba25-a7fb-4241-864f-8fc1a24269a1",
   "metadata": {
    "scrolled": true
   },
   "outputs": [],
   "source": [
    "# working with range\n",
    "\n",
    "for i in range(1,4):\n",
    "    print(f'Value of i : {i}')\n",
    "print(range(4))"
   ]
  },
  {
   "cell_type": "code",
   "execution_count": null,
   "id": "951e6895-81a0-4898-8d79-de57fd15804b",
   "metadata": {},
   "outputs": [],
   "source": []
  }
 ],
 "metadata": {
  "kernelspec": {
   "display_name": "Python 3 (ipykernel)",
   "language": "python",
   "name": "python3"
  },
  "language_info": {
   "codemirror_mode": {
    "name": "ipython",
    "version": 3
   },
   "file_extension": ".py",
   "mimetype": "text/x-python",
   "name": "python",
   "nbconvert_exporter": "python",
   "pygments_lexer": "ipython3",
   "version": "3.12.2"
  }
 },
 "nbformat": 4,
 "nbformat_minor": 5
}
